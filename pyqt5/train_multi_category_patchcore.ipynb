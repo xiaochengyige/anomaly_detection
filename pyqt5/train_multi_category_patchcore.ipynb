{
 "cells": [
  {
   "cell_type": "code",
   "execution_count": 2,
   "metadata": {},
   "outputs": [
    {
     "name": "stderr",
     "output_type": "stream",
     "text": [
      "d:\\anaconda3\\envs\\anomaly_detection\\lib\\site-packages\\tqdm\\auto.py:22: TqdmWarning: IProgress not found. Please update jupyter and ipywidgets. See https://ipywidgets.readthedocs.io/en/stable/user_install.html\n",
      "  from .autonotebook import tqdm as notebook_tqdm\n"
     ]
    }
   ],
   "source": [
    "from pathlib import Path\n",
    "from typing import Any, Dict\n",
    "\n",
    "import numpy as np\n",
    "from IPython.display import display\n",
    "from PIL import Image\n",
    "from pytorch_lightning import Trainer\n",
    "from torchvision.transforms import ToPILImage\n",
    "\n",
    "from anomalib.config import get_configurable_parameters\n",
    "from anomalib.data import get_datamodule\n",
    "from anomalib.models import get_model\n",
    "from anomalib.pre_processing.transforms import Denormalize\n",
    "from anomalib.utils.callbacks import LoadModelCallback, get_callbacks\n"
   ]
  },
  {
   "cell_type": "code",
   "execution_count": 3,
   "metadata": {},
   "outputs": [
    {
     "name": "stdout",
     "output_type": "stream",
     "text": [
      "dataset:\n",
      "  name: multi_category_mvtec #options: [mvtec, btech, folder]\n",
      "  format: multi_category_mvtec\n",
      "  path: ./datasets/MVTec\n",
      "  task: segmentation\n",
      "  category:\n",
      "    - bottle\n",
      "    - cable\n",
      "    - capsule\n",
      "    - carpet\n",
      "    - grid\n",
      "    - hazelnut\n",
      "    - leather\n",
      "    - metal_nut\n",
      "    - pill\n",
      "    - screw\n",
      "    - tile\n",
      "    - toothbrush\n",
      "    - transistor\n",
      "    - wood\n",
      "    - zipper\n",
      "  image_size: 224\n",
      "  train_batch_size: 32\n",
      "  test_batch_size: 1\n",
      "  num_workers: 0\n",
      "  transform_config:\n",
      "    train: null\n",
      "    val: null\n",
      "  create_validation_set: false\n",
      "  tiling:\n",
      "    apply: false\n",
      "    tile_size: null\n",
      "    stride: null\n",
      "    remove_border_count: 0\n",
      "    use_random_tiling: False\n",
      "    random_tile_count: 16\n",
      "\n",
      "model:\n",
      "  name: multi_category_patchcore\n",
      "  backbone: wide_resnet50_2\n",
      "  classifier: mobilenet_v2\n",
      "  pre_trained: true\n",
      "  layers:\n",
      "    - layer2\n",
      "    - layer3\n",
      "  coreset_sampling_ratio: 0.1\n",
      "  num_neighbors: 9\n",
      "  normalization_method: min_max # options: [null, min_max, cdf]\n",
      "\n",
      "metrics:\n",
      "  image:\n",
      "    - F1Score\n",
      "    - AUROC\n",
      "  pixel:\n",
      "    - F1Score\n",
      "    - AUROC\n",
      "  threshold:\n",
      "    image_default: 0\n",
      "    pixel_default: 0\n",
      "    adaptive: true\n",
      "\n",
      "visualization:\n",
      "  show_images: False # show images on the screen\n",
      "  save_images: True # save images to the file system\n",
      "  log_images: True # log images to the available loggers (if any)\n",
      "  image_save_path: null # path to which images will be saved\n",
      "  mode: full # options: [\"full\", \"simple\"]\n",
      "\n",
      "project:\n",
      "  seed: 0\n",
      "  path: ./results\n",
      "\n",
      "logging:\n",
      "  logger: [] # options: [tensorboard, wandb, csv] or combinations.\n",
      "  log_graph: false # Logs the model graph to respective logger.\n",
      "\n",
      "optimization:\n",
      "  export_mode: null # options: onnx, openvino\n",
      "\n",
      "# PL Trainer Args. Don't add extra parameter here.\n",
      "trainer:\n",
      "  accelerator: auto # <\"cpu\", \"gpu\", \"tpu\", \"ipu\", \"hpu\", \"auto\">\n",
      "  accumulate_grad_batches: 1\n",
      "  amp_backend: native\n",
      "  auto_lr_find: false\n",
      "  auto_scale_batch_size: false\n",
      "  auto_select_gpus: false\n",
      "  benchmark: false\n",
      "  check_val_every_n_epoch: 1 # Don't validate before extracting features.\n",
      "  default_root_dir: null\n",
      "  detect_anomaly: false\n",
      "  deterministic: false\n",
      "  devices: 1\n",
      "  enable_checkpointing: true\n",
      "  enable_model_summary: true\n",
      "  enable_progress_bar: true\n",
      "  fast_dev_run: false\n",
      "  gpus: null # Set automatically\n",
      "  gradient_clip_val: 0\n",
      "  ipus: null\n",
      "  limit_predict_batches: 1.0\n",
      "  limit_test_batches: 1.0\n",
      "  limit_train_batches: 1.0\n",
      "  limit_val_batches: 1.0\n",
      "  log_every_n_steps: 50\n",
      "  log_gpu_memory: null\n",
      "  max_epochs: 1\n",
      "  max_steps: -1\n",
      "  max_time: null\n",
      "  min_epochs: null\n",
      "  min_steps: null\n",
      "  move_metrics_to_cpu: false\n",
      "  multiple_trainloader_mode: max_size_cycle\n",
      "  num_nodes: 1\n",
      "  num_processes: null\n",
      "  num_sanity_val_steps: 0\n",
      "  overfit_batches: 0.0\n",
      "  plugins: null\n",
      "  precision: 32\n",
      "  profiler: null\n",
      "  reload_dataloaders_every_n_epochs: 0\n",
      "  replace_sampler_ddp: true\n",
      "  strategy: null\n",
      "  sync_batchnorm: false\n",
      "  tpu_cores: null\n",
      "  track_grad_norm: -1\n",
      "  val_check_interval: 1.0 # Don't validate before extracting features.\n",
      "\n"
     ]
    }
   ],
   "source": [
    "MODEL = \"multi_category_patchcore\"\n",
    "CONFIG_PATH = f\"../anomalib/models/{MODEL}/config.yaml\"\n",
    "with open(file=CONFIG_PATH, mode=\"r\", encoding=\"utf-8\") as file:\n",
    "    print(file.read())"
   ]
  },
  {
   "cell_type": "code",
   "execution_count": 4,
   "metadata": {},
   "outputs": [
    {
     "data": {
      "text/plain": [
       "['bottle', 'cable', 'capsule', 'carpet', 'grid', 'hazelnut', 'leather', 'metal_nut', 'pill', 'screw', 'tile', 'toothbrush', 'transistor', 'wood', 'zipper']"
      ]
     },
     "execution_count": 4,
     "metadata": {},
     "output_type": "execute_result"
    }
   ],
   "source": [
    "# pass the config file to model, callbacks and datamodule\n",
    "config = get_configurable_parameters(config_path=CONFIG_PATH)\n",
    "# or wherever the MVTec dataset is stored.\n",
    "config[\"dataset\"][\"path\"] = \"../datasets/MVTec\"\n",
    "config.dataset.category"
   ]
  },
  {
   "cell_type": "code",
   "execution_count": 5,
   "metadata": {},
   "outputs": [],
   "source": [
    "datamodule = get_datamodule(config)\n",
    "datamodule.setup()\n",
    "datamodule.prepare_data()"
   ]
  },
  {
   "cell_type": "code",
   "execution_count": null,
   "metadata": {},
   "outputs": [],
   "source": []
  }
 ],
 "metadata": {
  "kernelspec": {
   "display_name": "anomaly_detection",
   "language": "python",
   "name": "python3"
  },
  "language_info": {
   "codemirror_mode": {
    "name": "ipython",
    "version": 3
   },
   "file_extension": ".py",
   "mimetype": "text/x-python",
   "name": "python",
   "nbconvert_exporter": "python",
   "pygments_lexer": "ipython3",
   "version": "3.8.15"
  },
  "orig_nbformat": 4,
  "vscode": {
   "interpreter": {
    "hash": "188216ffe9706b80b45b17214b74f915c86d5d42bb44ac6b65b4d59ad484b8f3"
   }
  }
 },
 "nbformat": 4,
 "nbformat_minor": 2
}
